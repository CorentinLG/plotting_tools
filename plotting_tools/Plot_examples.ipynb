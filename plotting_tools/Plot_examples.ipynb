{
 "cells": [
  {
   "cell_type": "code",
   "execution_count": 1,
   "id": "bb725292-2f29-4108-8b45-5ca55102a6f2",
   "metadata": {},
   "outputs": [],
   "source": [
    "import sys\n",
    "sys.path.append(r'//home/corentin/data/Github/CL_Quant')"
   ]
  },
  {
   "cell_type": "markdown",
   "id": "9ddcbdbd-88a9-4bde-b3d2-9938e17f4406",
   "metadata": {},
   "source": [
    "# Extract signal"
   ]
  },
  {
   "cell_type": "code",
   "execution_count": null,
   "id": "b69e9322-31f2-4774-a700-57ac99b88f24",
   "metadata": {},
   "outputs": [],
   "source": [
    "from extract_signal import extract_spectra"
   ]
  },
  {
   "cell_type": "code",
   "execution_count": null,
   "id": "478df762-8b95-4b47-a6d6-90ea3d9e8e92",
   "metadata": {},
   "outputs": [],
   "source": [
    "sp1=extract_spectra(Mon_signal, M)"
   ]
  },
  {
   "cell_type": "markdown",
   "id": "c6eb7120-9d9a-4fd3-840b-aed63db1a07a",
   "metadata": {},
   "source": [
    "# Plot histo"
   ]
  },
  {
   "cell_type": "code",
   "execution_count": 2,
   "id": "f6e5bd05-8e6c-48df-b97d-fbb4379952ec",
   "metadata": {},
   "outputs": [],
   "source": [
    "from plot import triplot, plot_histo"
   ]
  },
  {
   "cell_type": "code",
   "execution_count": null,
   "id": "22a11efc-af3e-42b7-9ce5-f39757f904c6",
   "metadata": {},
   "outputs": [],
   "source": [
    "plot_histo([((Ryu_Q1.inav[6]+Ryu_Q1.inav[9])/(Ryu_Q1.inav[19]+Ryu_Q1.inav[0])), \n",
    "           ((Ryu_Q2.inav[6]+Ryu_Q2.inav[9])/(Ryu_Q2.inav[19]+Ryu_Q2.inav[0])),\n",
    "           ((Ryu_Q3.inav[6]+Ryu_Q3.inav[9])/(Ryu_Q3.inav[18]+Ryu_Q3.inav[0])),\n",
    "           ((Ryu_Q4.inav[6]+Ryu_Q4.inav[9])/(Ryu_Q4.inav[18]+Ryu_Q4.inav[0]))],\n",
    "          mask= [M_R1_Si,M_R2_Si, M_R3_Si, M_R4_Si,],\n",
    "          legend=['03T1', '03T2', '01T3', '06T4'], xlabel='(Fe+Mg)/(Si+Al) (at.)',ylabel='Nber of pixels (%)')"
   ]
  },
  {
   "cell_type": "markdown",
   "id": "989e7deb-c6bb-49d6-981b-12c8343870b8",
   "metadata": {},
   "source": [
    "# Triplot"
   ]
  },
  {
   "cell_type": "code",
   "execution_count": null,
   "id": "dec33b05-3055-4e24-90ff-2625172977cd",
   "metadata": {},
   "outputs": [],
   "source": [
    "triplot([[Ryu_Q1.inav[0]+Ryu_Q1.inav[19], Ryu_Q1.inav[6], Ryu_Q1.inav[9]],\n",
    "         [Ryu_Q2.inav[0]+Ryu_Q2.inav[19], Ryu_Q2.inav[6], Ryu_Q2.inav[9]],\n",
    "        [Ryu_Q3.inav[0]+Ryu_Q3.inav[18], Ryu_Q3.inav[6], Ryu_Q3.inav[9]],\n",
    "        [Ryu_Q4.inav[0]+Ryu_Q4.inav[18], Ryu_Q4.inav[6], Ryu_Q4.inav[9]]], \n",
    "         mask=[~M_R1_Si, ~M_R2_Si, ~M_R3_Si, ~M_R4_Si],\n",
    "       legend=['03T1', '03T2', '01T3', '06T4'],\n",
    "       type='silicate'\n",
    "       )"
   ]
  }
 ],
 "metadata": {
  "kernelspec": {
   "display_name": "Python 3 (ipykernel)",
   "language": "python",
   "name": "python3"
  },
  "language_info": {
   "codemirror_mode": {
    "name": "ipython",
    "version": 3
   },
   "file_extension": ".py",
   "mimetype": "text/x-python",
   "name": "python",
   "nbconvert_exporter": "python",
   "pygments_lexer": "ipython3",
   "version": "3.8.12"
  }
 },
 "nbformat": 4,
 "nbformat_minor": 5
}
