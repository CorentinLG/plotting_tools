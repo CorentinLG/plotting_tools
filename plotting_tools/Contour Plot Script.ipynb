{
 "cells": [
  {
   "cell_type": "code",
   "execution_count": 1,
   "id": "927989c2-0f2e-40fb-ac8b-1eb96b2e134b",
   "metadata": {},
   "outputs": [],
   "source": [
    "%matplotlib qt5\n",
    "import hyperspy.api as hs\n",
    "import numpy as np\n",
    "import matplotlib.pyplot as plt\n",
    "import copy\n",
    "from matplotlib.cm import *\n",
    "from tqdm import *"
   ]
  },
  {
   "cell_type": "markdown",
   "id": "db37801f-1b1e-4a99-a355-2f577bb379a8",
   "metadata": {
    "tags": []
   },
   "source": [
    "### Ouverture de la donnéee après quanti"
   ]
  },
  {
   "cell_type": "code",
   "execution_count": 10,
   "id": "a85400f0-a444-4ed6-955a-80fec700701d",
   "metadata": {},
   "outputs": [],
   "source": [
    "Q_Si = hs.load('Quanti SI 0010 bin 18x18.hspy')"
   ]
  },
  {
   "cell_type": "code",
   "execution_count": 11,
   "id": "7b684981-902a-4bbe-8457-29d32291a897",
   "metadata": {
    "tags": []
   },
   "outputs": [],
   "source": [
    "Q_si=[]\n",
    "for i in range (len (Q_Si)):\n",
    "    Q_si.append(Q_Si.inav[i])\n",
    "    Q_si[i].metadata.General.title = edsR.metadata.Sample.xray_lines[i]"
   ]
  },
  {
   "cell_type": "markdown",
   "id": "bfbf5edb-05c3-4868-88a2-f8e949bd4263",
   "metadata": {
    "tags": []
   },
   "source": [
    "### Plot ternaire avec la fonction Contour Plot"
   ]
  },
  {
   "cell_type": "code",
   "execution_count": 12,
   "id": "95f83acb-dffb-4eda-86b1-ea79b7d3d013",
   "metadata": {},
   "outputs": [],
   "source": [
    "import sys\n",
    "sys.path.append(r'C:\\Users\\Sylvain\\Documents\\UMET\\HyperSpy\\CL_Quant')\n",
    "from plot import *"
   ]
  },
  {
   "cell_type": "code",
   "execution_count": 17,
   "id": "d2d62091-aa0f-4103-a36e-cdc7d80f902e",
   "metadata": {},
   "outputs": [],
   "source": [
    "Ternary_Contour([[Q_si[0]+Q_si[-3], Q_si[9],Q_si[6]], \n",
    "                 [Q_si[0]+Q_si[-3], Q_si[9],Q_si[6]], \n",
    "                 [Q_si[0]+Q_si[-3], Q_si[9],Q_si[6]]],\n",
    "                 type='silicate', \n",
    "                 cmap = ['Blues', 'Greens', 'Reds'],\n",
    "                 legend = ['SiR areas', 'Fe-poor PRM', 'Fe-rich PRM'],\n",
    "                 mask = [~M, ~M2, ~M3],\n",
    "                 levels = 7,\n",
    "                 alpha = 1,\n",
    "                 ContourValues='n', ContLines='y', ContColourFill='y', DataPointDisp='n',\n",
    "               )"
   ]
  },
  {
   "cell_type": "markdown",
   "id": "862d54ec-be75-480c-b385-071abfd7b8d2",
   "metadata": {},
   "source": [
    "#### --> Tu peux jouer avec le nombre de domaines que tu fais apparaitre. Tu peux aussi faire appraitre les points de la donnée avec 'DataPointDisp'. "
   ]
  },
  {
   "cell_type": "code",
   "execution_count": 111,
   "id": "e1bb8eb6-2eeb-4856-85dd-d3a7f6dcccd5",
   "metadata": {},
   "outputs": [],
   "source": [
    "triplot([[Q_si[0]+Q_si[-3], Q_si[9],Q_si[6]], \n",
    "        [Q_si[0]+Q_si[-3], Q_si[9],Q_si[6]], \n",
    "        [Q_si[0]+Q_si[-3], Q_si[9],Q_si[6]]],\n",
    "       type = 'silicate',\n",
    "        markersize = 3, \n",
    "        mask=[~M, ~M2, ~M3],\n",
    "       legend = ['SiR areas', 'Fe-poor PRM', 'Fe-rich PRM'])"
   ]
  },
  {
   "cell_type": "code",
   "execution_count": null,
   "id": "1f7cc816-a102-4d73-9078-4eeae4e10ee2",
   "metadata": {},
   "outputs": [],
   "source": []
  }
 ],
 "metadata": {
  "kernelspec": {
   "display_name": "Python 3 (ipykernel)",
   "language": "python",
   "name": "python3"
  },
  "language_info": {
   "codemirror_mode": {
    "name": "ipython",
    "version": 3
   },
   "file_extension": ".py",
   "mimetype": "text/x-python",
   "name": "python",
   "nbconvert_exporter": "python",
   "pygments_lexer": "ipython3",
   "version": "3.8.16"
  }
 },
 "nbformat": 4,
 "nbformat_minor": 5
}
